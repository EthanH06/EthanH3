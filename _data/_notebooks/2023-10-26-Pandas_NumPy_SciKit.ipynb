{
 "cells": [
  {
   "cell_type": "markdown",
   "metadata": {},
   "source": [
    "---\n",
    "toc: true\n",
    "comments: true\n",
    "layout: post\n",
    "title: Pandas Example\n",
    "type: tangibles\n",
    "courses: { compsci: {week: 7} }\n",
    "---"
   ]
  },
  {
   "cell_type": "code",
   "execution_count": 24,
   "metadata": {},
   "outputs": [
    {
     "name": "stdout",
     "output_type": "stream",
     "text": [
      "      Name  Grade\n",
      "0    Alice     85\n",
      "1      Bob     92\n",
      "2  Charlie     78\n"
     ]
    }
   ],
   "source": [
    "#This code utilizes pandas which is a way for you as a user, to create data tables that are much more organized\n",
    "\n",
    "#imports pandas so it's able to be used\n",
    "import pandas as pd\n",
    "\n",
    "#data is created and will be sorted from left to right into top to bottom\n",
    "data = {'Name': ['Matthew', 'Lindsey', 'Josh', 'Ethan'],\n",
    "        'Grade': [97, 92, 90, 80]}\n",
    "\n",
    "#defines a variable and utilizes pandas by using a DataFrame for the data\n",
    "df = pd.DataFrame(data)\n",
    "\n",
    "#increase the side count by one\n",
    "df.index += 1\n",
    "\n",
    "print(df)\n"
   ]
  },
  {
   "cell_type": "markdown",
   "metadata": {},
   "source": []
  },
  {
   "cell_type": "code",
   "execution_count": 25,
   "metadata": {},
   "outputs": [
    {
     "name": "stdout",
     "output_type": "stream",
     "text": [
      "Mean Grade: 86.6\n"
     ]
    }
   ],
   "source": [
    "#imports numpy and defines it as np for ease\n",
    "import numpy as np\n",
    "\n",
    "#creates a list of values similar to python lists\n",
    "grades = np.array([85, 92, 78, 90, 88])\n",
    "\n",
    "# Calculates the mean grade using np.mean\n",
    "mean_grade = np.mean(grades)\n",
    "\n",
    "print(\"Mean Grade:\", mean_grade)\n"
   ]
  },
  {
   "cell_type": "markdown",
   "metadata": {},
   "source": [
    "<h1>Homework Hack 1</h1> \n",
    "Create a code that makes a data table which organizes the average values(mean) from a data set the has atleast 5 values per category ex:"
   ]
  },
  {
   "cell_type": "code",
   "execution_count": 9,
   "metadata": {},
   "outputs": [
    {
     "name": "stdout",
     "output_type": "stream",
     "text": [
      "  Grade  Mean Grade\n",
      "0     A        94.0\n",
      "1     B        86.0\n",
      "2     C        77.5\n"
     ]
    }
   ],
   "source": [
    "import pandas as pd\n",
    "import numpy as np\n",
    "\n",
    "# Sample data\n",
    "data = {\n",
    "    'Grade': ['A', 'B', 'A', 'C', 'B', 'C', 'A', 'B', 'A'],\n",
    "    'Percent': [94, 82, 91, 76, 89, 79, 92, 87, 99]\n",
    "}\n",
    "\n",
    "# Create a Pandas DataFrame\n",
    "df = pd.DataFrame(data)\n",
    "\n",
    "# Calculate the mean of each Grade using NumPy\n",
    "means = df.groupby('Grade')['Percent'].mean().reset_index()\n",
    "\n",
    "# Organize the results into a new data table\n",
    "result = pd.DataFrame({'Grade': ['A', 'B', 'C'], 'Mean Grade': means['Percent']})\n",
    "\n",
    "# Display the result\n",
    "print(result)\n"
   ]
  }
 ],
 "metadata": {
  "kernelspec": {
   "display_name": "Python 3",
   "language": "python",
   "name": "python3"
  },
  "language_info": {
   "codemirror_mode": {
    "name": "ipython",
    "version": 3
   },
   "file_extension": ".py",
   "mimetype": "text/x-python",
   "name": "python",
   "nbconvert_exporter": "python",
   "pygments_lexer": "ipython3",
   "version": "3.11.5"
  }
 },
 "nbformat": 4,
 "nbformat_minor": 2
}
