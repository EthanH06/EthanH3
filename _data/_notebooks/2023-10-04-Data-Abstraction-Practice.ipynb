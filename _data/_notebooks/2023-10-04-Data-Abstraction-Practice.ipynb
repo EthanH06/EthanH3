{
 "cells": [
  {
   "cell_type": "code",
   "execution_count": null,
   "metadata": {},
   "outputs": [],
   "source": []
  },
  {
   "cell_type": "code",
   "execution_count": null,
   "metadata": {},
   "outputs": [
    {
     "name": "stdout",
     "output_type": "stream",
     "text": [
      "93\n",
      "there are\n"
     ]
    }
   ],
   "source": [
    "numCars = (93)\n",
    "print (numCars)\n",
    "\n",
    "Car = \"GTR\"\n",
    "print (\"there are\")"
   ]
  },
  {
   "cell_type": "code",
   "execution_count": null,
   "metadata": {},
   "outputs": [
    {
     "name": "stdout",
     "output_type": "stream",
     "text": [
      "9 is an integer \n",
      "False is a bolean \n",
      "Ethan is a string \n"
     ]
    }
   ],
   "source": [
    "Highscore = 9\n",
    "isRaining = False\n",
    "firstName = \"Ethan\"\n",
    "print(str(Highscore) + \" is an integer \")\n",
    "print(str(isRaining) + \" is a bolean \")\n",
    "print(firstName + \" is a string \")"
   ]
  },
  {
   "cell_type": "code",
   "execution_count": null,
   "metadata": {},
   "outputs": [
    {
     "name": "stdout",
     "output_type": "stream",
     "text": [
      "17\n"
     ]
    }
   ],
   "source": [
    "currentScore = 10\n",
    "highScore = currentScore\n",
    "highScore = 17\n",
    "print(str(highScore))"
   ]
  },
  {
   "cell_type": "code",
   "execution_count": null,
   "metadata": {},
   "outputs": [
    {
     "name": "stdout",
     "output_type": "stream",
     "text": [
      "Matthew\n",
      "Josh\n",
      "Lindsey\n",
      "Ethan\n"
     ]
    }
   ],
   "source": [
    "groupNames = [\"Matthew\" , \"Josh\" , \"Lindsey\" , \"Ethan\"]\n",
    "print(groupNames[0])\n",
    "print(groupNames[1])\n",
    "print(groupNames[2])\n",
    "print(groupNames[3])"
   ]
  },
  {
   "cell_type": "code",
   "execution_count": null,
   "metadata": {},
   "outputs": [
    {
     "name": "stdout",
     "output_type": "stream",
     "text": [
      "Calc AB\n"
     ]
    }
   ],
   "source": [
    "Classes = [\"USH\", \"Calc AB\" , \"AP Physics\" , \"AP CSP\" , \"AmLit\"]\n",
    "print(Classes[1])"
   ]
  },
  {
   "cell_type": "code",
   "execution_count": null,
   "metadata": {},
   "outputs": [
    {
     "name": "stdout",
     "output_type": "stream",
     "text": [
      "[23, 25, 96, 55]\n"
     ]
    }
   ],
   "source": [
    "##Data Abstraction and Lists\n",
    "\n",
    "scores1 = [89, 72, 34, 56, 83]\n",
    "scores2 = [23, 25, 96, 55]\n",
    "scores1 = scores2\n",
    "print(str(scores1))"
   ]
  },
  {
   "cell_type": "code",
   "execution_count": null,
   "metadata": {},
   "outputs": [
    {
     "name": "stdout",
     "output_type": "stream",
     "text": [
      "<class 'list'>\n",
      "[1, 2, 3, 4]\n",
      "<class 'str'>\n"
     ]
    }
   ],
   "source": [
    "import json\n",
    "lst = [1,2,3,4]\n",
    "print(type(lst))\n",
    "a = json.dumps(lst)\n",
    "print (a)\n",
    "print(type(a))"
   ]
  },
  {
   "cell_type": "code",
   "execution_count": null,
   "metadata": {},
   "outputs": [],
   "source": [
    "import json\n",
    "int = 16\n",
    "print (int)\n",
    "print (type(int))\n",
    "\n",
    "print(\"\")\n",
    "\n",
    "car = \"GTR\"\n",
    "print (car)\n",
    "print(type(car))\n",
    "\n",
    "print(\"\")\n",
    "\n",
    "\n",
    "groupmates = [\"Matthew\", \"Lindsey\", \"Joshua\", \"Ethan\"]\n",
    "print (groupmates)\n",
    "print(type(groupmates))\n",
    "\n",
    "print(\"\")\n",
    "\n",
    "\n",
    "CatsAreBetter = True\n",
    "a = \"Cats Are Better\"\n",
    "if CatsAreBetter == True:\n",
    "    print(a)\n",
    "    print(CatsAreBetter)\n",
    "    print(type(CatsAreBetter))"
   ]
  },
  {
   "cell_type": "code",
   "execution_count": null,
   "metadata": {},
   "outputs": [
    {
     "name": "stdout",
     "output_type": "stream",
     "text": [
      "My name is Ethan , I am 16 years old. , my family consists of ('Ethan', 'Nathan', 'Kelly', 'Steve')\n",
      "Not an only Child\n"
     ]
    }
   ],
   "source": [
    "import json\n",
    "\n",
    "age = 16  #int\n",
    "Nm = \"Ethan\" #str\n",
    "Fly = (\"Ethan\", \"Nathan\", \"Kelly\", \"Steve\") #list\n",
    "OnlyChild = False #bool\n",
    "a = \"Not an only Child\"\n",
    "\n",
    "print(\"My name is\", (Nm), \", I am\", (age), \"years old.\", \", my family consists of\", (Fly))\n",
    "\n",
    "if OnlyChild ==False:\n",
    "    print (a)"
   ]
  }
 ],
 "metadata": {
  "language_info": {
   "name": "python"
  }
 },
 "nbformat": 4,
 "nbformat_minor": 2
}
