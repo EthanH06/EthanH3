{
 "cells": [
  {
   "cell_type": "code",
   "execution_count": 7,
   "metadata": {},
   "outputs": [
    {
     "name": "stdout",
     "output_type": "stream",
     "text": [
      "93\n",
      "there are\n"
     ]
    }
   ],
   "source": [
    "numCars = (93)\n",
    "print (numCars)\n",
    "\n",
    "Car = \"GTR\"\n",
    "print (\"there are\")"
   ]
  },
  {
   "cell_type": "code",
   "execution_count": 15,
   "metadata": {},
   "outputs": [
    {
     "ename": "TypeError",
     "evalue": "type 'str' is not subscriptable",
     "output_type": "error",
     "traceback": [
      "\u001b[0;31m---------------------------------------------------------------------------\u001b[0m",
      "\u001b[0;31mTypeError\u001b[0m                                 Traceback (most recent call last)",
      "\u001b[1;32m/home/ethanh/vscode/EthanH2/_notebooks/2023-10-04-Data-Abstraction.IPYNB Cell 2\u001b[0m line \u001b[0;36m4\n\u001b[1;32m      <a href='vscode-notebook-cell://wsl%2Bubuntu/home/ethanh/vscode/EthanH2/_notebooks/2023-10-04-Data-Abstraction.IPYNB#W1sdnNjb2RlLXJlbW90ZQ%3D%3D?line=1'>2</a>\u001b[0m isRaining \u001b[39m=\u001b[39m \u001b[39mFalse\u001b[39;00m\n\u001b[1;32m      <a href='vscode-notebook-cell://wsl%2Bubuntu/home/ethanh/vscode/EthanH2/_notebooks/2023-10-04-Data-Abstraction.IPYNB#W1sdnNjb2RlLXJlbW90ZQ%3D%3D?line=2'>3</a>\u001b[0m firstName \u001b[39m=\u001b[39m \u001b[39m\"\u001b[39m\u001b[39mEthan\u001b[39m\u001b[39m\"\u001b[39m\n\u001b[0;32m----> <a href='vscode-notebook-cell://wsl%2Bubuntu/home/ethanh/vscode/EthanH2/_notebooks/2023-10-04-Data-Abstraction.IPYNB#W1sdnNjb2RlLXJlbW90ZQ%3D%3D?line=3'>4</a>\u001b[0m \u001b[39mprint\u001b[39m(\u001b[39mstr\u001b[39;49m[Highscore] \u001b[39m+\u001b[39m \u001b[39m\"\u001b[39m\u001b[39m is an integer \u001b[39m\u001b[39m\"\u001b[39m)\n\u001b[1;32m      <a href='vscode-notebook-cell://wsl%2Bubuntu/home/ethanh/vscode/EthanH2/_notebooks/2023-10-04-Data-Abstraction.IPYNB#W1sdnNjb2RlLXJlbW90ZQ%3D%3D?line=4'>5</a>\u001b[0m \u001b[39mprint\u001b[39m(\u001b[39mstr\u001b[39m[isRaining] \u001b[39m+\u001b[39m \u001b[39m\"\u001b[39m\u001b[39m is a bolean \u001b[39m\u001b[39m\"\u001b[39m)\n\u001b[1;32m      <a href='vscode-notebook-cell://wsl%2Bubuntu/home/ethanh/vscode/EthanH2/_notebooks/2023-10-04-Data-Abstraction.IPYNB#W1sdnNjb2RlLXJlbW90ZQ%3D%3D?line=5'>6</a>\u001b[0m \u001b[39mprint\u001b[39m(firstName \u001b[39m+\u001b[39m \u001b[39m\"\u001b[39m\u001b[39m is a string \u001b[39m\u001b[39m\"\u001b[39m)\n",
      "\u001b[0;31mTypeError\u001b[0m: type 'str' is not subscriptable"
     ]
    }
   ],
   "source": [
    "Highscore = 9\n",
    "isRaining = False\n",
    "firstName = \"Ethan\"\n",
    "print(str[Highscore] + \" is an integer \")\n",
    "print(str[isRaining] + \" is a bolean \")\n",
    "print(firstName + \" is a string \")"
   ]
  },
  {
   "cell_type": "code",
   "execution_count": 1,
   "metadata": {},
   "outputs": [
    {
     "ename": "TypeError",
     "evalue": "type 'str' is not subscriptable",
     "output_type": "error",
     "traceback": [
      "\u001b[0;31m---------------------------------------------------------------------------\u001b[0m",
      "\u001b[0;31mTypeError\u001b[0m                                 Traceback (most recent call last)",
      "\u001b[1;32m/home/ethanh/vscode/EthanH2/_notebooks/2023-10-04-Data-Abstraction.ipynb Cell 3\u001b[0m line \u001b[0;36m4\n\u001b[1;32m      <a href='vscode-notebook-cell://wsl%2Bubuntu/home/ethanh/vscode/EthanH2/_notebooks/2023-10-04-Data-Abstraction.ipynb#W2sdnNjb2RlLXJlbW90ZQ%3D%3D?line=1'>2</a>\u001b[0m highScore \u001b[39m=\u001b[39m currentScore\n\u001b[1;32m      <a href='vscode-notebook-cell://wsl%2Bubuntu/home/ethanh/vscode/EthanH2/_notebooks/2023-10-04-Data-Abstraction.ipynb#W2sdnNjb2RlLXJlbW90ZQ%3D%3D?line=2'>3</a>\u001b[0m highScore \u001b[39m=\u001b[39m \u001b[39m17\u001b[39m\n\u001b[0;32m----> <a href='vscode-notebook-cell://wsl%2Bubuntu/home/ethanh/vscode/EthanH2/_notebooks/2023-10-04-Data-Abstraction.ipynb#W2sdnNjb2RlLXJlbW90ZQ%3D%3D?line=3'>4</a>\u001b[0m \u001b[39mprint\u001b[39m(\u001b[39mstr\u001b[39;49m[highScore])\n",
      "\u001b[0;31mTypeError\u001b[0m: type 'str' is not subscriptable"
     ]
    }
   ],
   "source": [
    "currentScore = 10\n",
    "highScore = currentScore\n",
    "highScore = 17\n",
    "print(str[highScore])"
   ]
  },
  {
   "cell_type": "code",
   "execution_count": 2,
   "metadata": {},
   "outputs": [
    {
     "name": "stdout",
     "output_type": "stream",
     "text": [
      "Matthew, Josh, Lindsey, Ethan\n"
     ]
    },
    {
     "ename": "IndexError",
     "evalue": "list index out of range",
     "output_type": "error",
     "traceback": [
      "\u001b[0;31m---------------------------------------------------------------------------\u001b[0m",
      "\u001b[0;31mIndexError\u001b[0m                                Traceback (most recent call last)",
      "\u001b[1;32m/home/ethanh/vscode/EthanH2/_notebooks/2023-10-04-Data-Abstraction.ipynb Cell 4\u001b[0m line \u001b[0;36m3\n\u001b[1;32m      <a href='vscode-notebook-cell://wsl%2Bubuntu/home/ethanh/vscode/EthanH2/_notebooks/2023-10-04-Data-Abstraction.ipynb#W3sdnNjb2RlLXJlbW90ZQ%3D%3D?line=0'>1</a>\u001b[0m groupNames \u001b[39m=\u001b[39m [\u001b[39m\"\u001b[39m\u001b[39mMatthew, Josh, Lindsey, Ethan\u001b[39m\u001b[39m\"\u001b[39m]\n\u001b[1;32m      <a href='vscode-notebook-cell://wsl%2Bubuntu/home/ethanh/vscode/EthanH2/_notebooks/2023-10-04-Data-Abstraction.ipynb#W3sdnNjb2RlLXJlbW90ZQ%3D%3D?line=1'>2</a>\u001b[0m \u001b[39mprint\u001b[39m (groupNames [\u001b[39m0\u001b[39m])\n\u001b[0;32m----> <a href='vscode-notebook-cell://wsl%2Bubuntu/home/ethanh/vscode/EthanH2/_notebooks/2023-10-04-Data-Abstraction.ipynb#W3sdnNjb2RlLXJlbW90ZQ%3D%3D?line=2'>3</a>\u001b[0m \u001b[39mprint\u001b[39m (groupNames [\u001b[39m1\u001b[39;49m])\n\u001b[1;32m      <a href='vscode-notebook-cell://wsl%2Bubuntu/home/ethanh/vscode/EthanH2/_notebooks/2023-10-04-Data-Abstraction.ipynb#W3sdnNjb2RlLXJlbW90ZQ%3D%3D?line=3'>4</a>\u001b[0m \u001b[39mprint\u001b[39m (groupNames [\u001b[39m2\u001b[39m])\n\u001b[1;32m      <a href='vscode-notebook-cell://wsl%2Bubuntu/home/ethanh/vscode/EthanH2/_notebooks/2023-10-04-Data-Abstraction.ipynb#W3sdnNjb2RlLXJlbW90ZQ%3D%3D?line=4'>5</a>\u001b[0m \u001b[39mprint\u001b[39m (groupNames [\u001b[39m3\u001b[39m])\n",
      "\u001b[0;31mIndexError\u001b[0m: list index out of range"
     ]
    }
   ],
   "source": [
    "groupNames = [\"Matthew, Josh, Lindsey, Ethan\"]\n",
    "print (groupNames [0])\n",
    "print (groupNames [1])\n",
    "print (groupNames [2])\n",
    "print (groupNames [3])"
   ]
  }
 ],
 "metadata": {
  "kernelspec": {
   "display_name": "Python 3",
   "language": "python",
   "name": "python3"
  },
  "language_info": {
   "codemirror_mode": {
    "name": "ipython",
    "version": 3
   },
   "file_extension": ".py",
   "mimetype": "text/x-python",
   "name": "python",
   "nbconvert_exporter": "python",
   "pygments_lexer": "ipython3",
   "version": "3.11.5"
  },
  "orig_nbformat": 4
 },
 "nbformat": 4,
 "nbformat_minor": 2
}
