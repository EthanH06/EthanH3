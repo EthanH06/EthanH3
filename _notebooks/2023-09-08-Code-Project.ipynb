{
 "cells": [
  {
   "cell_type": "code",
   "execution_count": null,
   "metadata": {},
   "outputs": [],
   "source": []
  },
  {
   "cell_type": "code",
   "execution_count": 1,
   "metadata": {},
   "outputs": [
    {
     "name": "stdout",
     "output_type": "stream",
     "text": [
      "Linux Shell (Bash) Example:\n",
      "Hello, World! This is a Bash script.\n",
      "\n",
      "Python I/O Example:\n",
      "Hello, ! This is Python.\n",
      "\n",
      "Python Tricks! Example:\n",
      "Even numbers from 1 to 10: [2, 4, 6, 8, 10]\n",
      "\n",
      "JavaScript Output Example (in the browser console):\n",
      "Open your browser's console to see the JavaScript output.\n",
      "\n",
      "JavaScript Output with API Request (in the browser console):\n",
      "Open your browser's console to see the JavaScript output.\n",
      "\n",
      "JavaScript Input Example (in the browser console):\n",
      "Open your browser's console and enter 'Hello' when prompted.\n"
     ]
    }
   ],
   "source": [
    "# Linux Shell (Bash) Part\n",
    "print(\"Linux Shell (Bash) Example:\")\n",
    "print(\"Hello, World! This is a Bash script.\")\n",
    "\n",
    "# Python I/O Part\n",
    "print(\"\\nPython I/O Example:\")\n",
    "name = input(\"Enter your name: \")\n",
    "print(\"Hello, \" + name + \"! This is Python.\")\n",
    "\n",
    "# Python Tricks!\n",
    "print(\"\\nPython Tricks! Example:\")\n",
    "print(\"Even numbers from 1 to 10:\", list(range(2, 11, 2)))\n",
    "\n",
    "# JavaScript Output\n",
    "print(\"\\nJavaScript Output Example (in the browser console):\")\n",
    "print(\"Open your browser's console to see the JavaScript output.\")\n",
    "\n",
    "# JavaScript Output with an API Request\n",
    "print(\"\\nJavaScript Output with API Request (in the browser console):\")\n",
    "print(\"Open your browser's console to see the JavaScript output.\")\n",
    "\n",
    "# JavaScript Input\n",
    "print(\"\\nJavaScript Input Example (in the browser console):\")\n",
    "print(\"Open your browser's console and enter 'Hello' when prompted.\")\n"
   ]
  }
 ],
 "metadata": {
  "kernelspec": {
   "display_name": "Python 3",
   "language": "python",
   "name": "python3"
  },
  "language_info": {
   "codemirror_mode": {
    "name": "ipython",
    "version": 3
   },
   "file_extension": ".py",
   "mimetype": "text/x-python",
   "name": "python",
   "nbconvert_exporter": "python",
   "pygments_lexer": "ipython3",
   "version": "3.11.5"
  },
  "orig_nbformat": 4
 },
 "nbformat": 4,
 "nbformat_minor": 2
}
