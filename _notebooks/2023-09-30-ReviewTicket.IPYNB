{
 "cells": [
  {
   "cell_type": "markdown",
   "metadata": {},
   "source": [
    "---\n",
    "toc: true\n",
    "comments: true\n",
    "layout: post\n",
    "title: Review Ticket\n",
    "description: \n",
    "type: hacks\n",
    "courses: { compsci: {week: 6} }\n",
    "---"
   ]
  },
  {
   "cell_type": "markdown",
   "metadata": {},
   "source": [
    "<h>Review Ticket</h>\n",
    "\n",
    "\n",
    "<p>Basic html</p>\n",
    "<br>\n",
    "<p>Basic JS</p>\n",
    "<br>\n",
    "<p>Basic JS Data Types</p>\n",
    "<br>\n",
    "<p>Basic JS with HTML</p>\n",
    "<br>\n",
    "<p>JS Errors</p>\n",
    "\n",
    "<table>\n",
    "<tr> \n",
    "<td>Matthew - 3.8\n",
    "</tr>\n",
    "<tr>\n",
    "<td>Lindsey - 3.7\n",
    "</tr>\n",
    "<tr>\n",
    "<td>Joshua - 3.7\n",
    "</tr>\n",
    "</table>"
   ]
  }
 ],
 "metadata": {
  "language_info": {
   "name": "python"
  },
  "orig_nbformat": 4
 },
 "nbformat": 4,
 "nbformat_minor": 2
}
