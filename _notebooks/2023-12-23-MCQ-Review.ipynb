{
 "cells": [
  {
   "cell_type": "code",
   "execution_count": null,
   "metadata": {},
   "outputs": [],
   "source": []
  },
  {
   "cell_type": "markdown",
   "metadata": {},
   "source": [
    "---\n",
    "toc: true\n",
    "comments: true\n",
    "layout: post\n",
    "title: CB Review\n",
    "description: \n",
    "type: hacks\n",
    "courses: { compsci: {week: 7} }\n",
    "---"
   ]
  },
  {
   "cell_type": "markdown",
   "metadata": {},
   "source": [
    "The MCQ should be complete by next Friday.  Here are the rules...\n",
    "If you get 50 or more correct, you must complete a 5 minute blog describing your research or journey to learn this material.  That would include test corrections.  Score range will be 55% for no blog to 100% for blog/corrections and score.  Quality of blog will be big factor in scoring.\n",
    "If you score less than less than 50 you will be required to make corrections.  Score will be 55% for no corrections to 90% for blog/corrections and score.  Quality of blog will be a big factor in scoring.\n",
    "The FRQ is provided to help you in planning CPT/N@tM  project.  This will be due after winter break.  Do not submit to CB  portal, or if you do don't expect to get feedback.  In planning, I would like you to go through FRQ by using your Binary project.  Then start to accumulate a new ideas and plan how you will meet/beat criteria.\n",
    "(edited)"
   ]
  },
  {
   "cell_type": "markdown",
   "metadata": {},
   "source": [
    "Overall, the MCQ was both entirely easy and entirely difficult. I felt as though I could easily solve basic problems that involve pseudo code, yet the ones that become advanced immediately stunned me. Definitions were one thing that was extremely easy for me, overall I hadn't gotten many if any wrong there. Graphs and data analysis was also a strong point of mine which helped raise my grade significantlly. Robot programs was quite easy yet for some reason I had overlooked question 6 which should've been an easy solution. Overflow I feel is still a weakpoint for me because its definition and causes are still foggy with me, I'll probably find some time to research about it later during or after the break. To conclude this, my mistakes were mostly made by not fully knowing about a topic/being foggy, straight carelessness, or just being lost while testing.\n",
    "\n",
    "Corrections\n",
    "\n",
    "Q60: Answered: B, Correct: D (Lack of Understanding/Being able to read pseudo code)\n",
    "Q44: Answered: D, Correct: B (Carelessness)\n",
    "Q36: Answered: D, Correct: A (Carelessness)\n",
    "Q32: Answered: C, Correct: D (Lack of use of pseudo code)\n",
    "Q21: Answered: C, Correct: B (Misreading Graphs and Data)\n",
    "Q6:  Answered: B, Correct: C (Carelessness/Not reading code properly)"
   ]
  }
 ],
 "metadata": {
  "language_info": {
   "name": "python"
  }
 },
 "nbformat": 4,
 "nbformat_minor": 2
}
